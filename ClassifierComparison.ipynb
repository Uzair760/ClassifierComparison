{
 "cells": [
  {
   "cell_type": "code",
   "execution_count": 19,
   "id": "55fe954d",
   "metadata": {},
   "outputs": [],
   "source": [
    "import pandas as pd\n",
    "\n",
    "from sklearn import datasets\n",
    "from sklearn.model_selection import train_test_split\n",
    "from sklearn.datasets import make_classification\n",
    "from sklearn.neural_network import MLPClassifier\n",
    "from sklearn.neighbors import KNeighborsClassifier\n",
    "from sklearn.svm import SVC\n",
    "from sklearn.gaussian_process import GaussianProcessClassifier\n",
    "from sklearn.ensemble import GradientBoostingClassifier\n",
    "from sklearn.gaussian_process.kernels import RBF\n",
    "from sklearn.tree import DecisionTreeClassifier\n",
    "from sklearn.ensemble import ExtraTreesClassifier\n",
    "from sklearn.ensemble import RandomForestClassifier, AdaBoostClassifier\n",
    "from sklearn.naive_bayes import GaussianNB\n",
    "from sklearn.discriminant_analysis import QuadraticDiscriminantAnalysis\n",
    "from sklearn.linear_model import SGDClassifier"
   ]
  },
  {
   "cell_type": "code",
   "execution_count": 5,
   "id": "3ac19275",
   "metadata": {},
   "outputs": [],
   "source": [
    "cancer = datasets.load_breast_cancer()\n",
    "X = cancer.data\n",
    "Y = cancer.target"
   ]
  },
  {
   "cell_type": "code",
   "execution_count": 7,
   "id": "48080731",
   "metadata": {},
   "outputs": [],
   "source": [
    "X_train, X_test, Y_train, Y_test = train_test_split(X, Y, test_size=0.2)"
   ]
  },
  {
   "cell_type": "code",
   "execution_count": 49,
   "id": "33b4118e",
   "metadata": {},
   "outputs": [],
   "source": [
    "names = [\"Nearest_Neighbors\", \"Linear_SVM\", \"Polynomial_SVM\", \"RBF_SVM\", \"Gaussian_Process\",\n",
    "         \"Gradient_Boosting\", \"Decision_Tree\", \"Extra_Trees\", \"Random_Forest\", \"Neural_Net\", \"AdaBoost\",\n",
    "         \"Naive_Bayes\", \"QDA\", \"SGD\"]\n",
    "\n",
    "classifiers = [\n",
    "    KNeighborsClassifier(3),\n",
    "    SVC(kernel=\"linear\", C=0.025),\n",
    "    SVC(kernel=\"poly\", degree=3, C=0.025),\n",
    "    SVC(kernel=\"rbf\", C=1, gamma=2),\n",
    "    GaussianProcessClassifier(1.0 * RBF(1.0)),\n",
    "    GradientBoostingClassifier(n_estimators=100, learning_rate=1.0),\n",
    "    DecisionTreeClassifier(max_depth=5),\n",
    "    ExtraTreesClassifier(n_estimators=10, min_samples_split=2),\n",
    "    RandomForestClassifier(max_depth=5, n_estimators=100),\n",
    "    MLPClassifier(alpha=1, max_iter=1000),\n",
    "    AdaBoostClassifier(n_estimators=100),\n",
    "    GaussianNB(),\n",
    "    QuadraticDiscriminantAnalysis(),\n",
    "    SGDClassifier(loss=\"hinge\", penalty=\"l2\")]\n",
    "\n",
    "clf_scores = []"
   ]
  },
  {
   "source": [
    "for name, clf in zip(names, classifiers):\n",
    "    clf.fit(X_train, Y_train)\n",
    "    score = clf.score(X_test, Y_test)\n",
    "    clf_scores.append(score)"
   ]
  },
 "cell_type": "code",
    "execution_count": 55,
    "id": "6eaa1094",
    "metadata": {},
    "outputs": [
     {
      "name": "stderr",
      "output_type": "stream",
      "text": [
       "/Users/uzairahmad/opt/anaconda3/lib/python3.9/site-packages/sklearn/neighbors/_classification.py:228: FutureWarning: Unlike other reduction functions (e.g. `skew`, `kurtosis`), the default behavior of `mode` typically preserves the axis it acts along. In SciPy 1.11.0, this behavior will change: the default value of `keepdims` will become False, the `axis` over which the statistic is taken will be eliminated, and the value None will no longer be accepted. Set `keepdims` to True or False to avoid this warning.\n",
       "  mode, _ = stats.mode(_y[neigh_ind, k], axis=1)\n"
      ]
     }
    ],
  {
   "cell_type": "code",
   "execution_count": 10,
   "id": "3a5cd8e5",
   "metadata": {},
   "outputs": [],
   "source": [
    "import seaborn as sns"
   ]
  },
  {
   "cell_type": "code",
   "execution_count": 51,
   "id": "4659052b",
   "metadata": {},
   "outputs": [
    {
     "data": {
      "text/plain": [
       "[0.8947368421052632,\n",
       " 0.9649122807017544,\n",
       " 0.8596491228070176,\n",
       " 0.6140350877192983,\n",
       " 0.9912280701754386,\n",
       " 0.9473684210526315,\n",
       " 0.9210526315789473,\n",
       " 0.9824561403508771,\n",
       " 0.956140350877193,\n",
       " 0.9473684210526315,\n",
       " 0.956140350877193,\n",
       " 0.956140350877193,\n",
       " 0.9649122807017544,\n",
       " 0.8596491228070176]"
      ]
     },
     "execution_count": 51,
     "metadata": {},
     "output_type": "execute_result"
    }
   ],
   "source": [
    "clf_scores"
   ]
  },
  {
   "cell_type": "code",
   "execution_count": 52,
   "id": "48882f43",
   "metadata": {},
   "outputs": [
    {
     "data": {
      "text/html": [
       "<div>\n",
       "<style scoped>\n",
       "    .dataframe tbody tr th:only-of-type {\n",
       "        vertical-align: middle;\n",
       "    }\n",
       "\n",
       "    .dataframe tbody tr th {\n",
       "        vertical-align: top;\n",
       "    }\n",
       "\n",
       "    .dataframe thead th {\n",
       "        text-align: right;\n",
       "    }\n",
       "</style>\n",
       "<table border=\"1\" class=\"dataframe\">\n",
       "  <thead>\n",
       "    <tr style=\"text-align: right;\">\n",
       "      <th></th>\n",
       "      <th>classifier</th>\n",
       "      <th>score</th>\n",
       "    </tr>\n",
       "  </thead>\n",
       "  <tbody>\n",
       "    <tr>\n",
       "      <th>0</th>\n",
       "      <td>Nearest_Neighbors</td>\n",
       "      <td>0.894737</td>\n",
       "    </tr>\n",
       "    <tr>\n",
       "      <th>1</th>\n",
       "      <td>Linear_SVM</td>\n",
       "      <td>0.964912</td>\n",
       "    </tr>\n",
       "    <tr>\n",
       "      <th>2</th>\n",
       "      <td>Polynomial_SVM</td>\n",
       "      <td>0.859649</td>\n",
       "    </tr>\n",
       "    <tr>\n",
       "      <th>3</th>\n",
       "      <td>RBF_SVM</td>\n",
       "      <td>0.614035</td>\n",
       "    </tr>\n",
       "    <tr>\n",
       "      <th>4</th>\n",
       "      <td>Gaussian_Process</td>\n",
       "      <td>0.991228</td>\n",
       "    </tr>\n",
       "    <tr>\n",
       "      <th>5</th>\n",
       "      <td>Gradient_Boosting</td>\n",
       "      <td>0.947368</td>\n",
       "    </tr>\n",
       "    <tr>\n",
       "      <th>6</th>\n",
       "      <td>Decision_Tree</td>\n",
       "      <td>0.921053</td>\n",
       "    </tr>\n",
       "    <tr>\n",
       "      <th>7</th>\n",
       "      <td>Extra_Trees</td>\n",
       "      <td>0.982456</td>\n",
       "    </tr>\n",
       "    <tr>\n",
       "      <th>8</th>\n",
       "      <td>Random_Forest</td>\n",
       "      <td>0.956140</td>\n",
       "    </tr>\n",
       "    <tr>\n",
       "      <th>9</th>\n",
       "      <td>Neural_Net</td>\n",
       "      <td>0.947368</td>\n",
       "    </tr>\n",
       "    <tr>\n",
       "      <th>10</th>\n",
       "      <td>AdaBoost</td>\n",
       "      <td>0.956140</td>\n",
       "    </tr>\n",
       "    <tr>\n",
       "      <th>11</th>\n",
       "      <td>Naive_Bayes</td>\n",
       "      <td>0.956140</td>\n",
       "    </tr>\n",
       "    <tr>\n",
       "      <th>12</th>\n",
       "      <td>QDA</td>\n",
       "      <td>0.964912</td>\n",
       "    </tr>\n",
       "    <tr>\n",
       "      <th>13</th>\n",
       "      <td>SGD</td>\n",
       "      <td>0.859649</td>\n",
       "    </tr>\n",
       "  </tbody>\n",
       "</table>\n",
       "</div>"
      ],
      "text/plain": [
       "           classifier     score\n",
       "0   Nearest_Neighbors  0.894737\n",
       "1          Linear_SVM  0.964912\n",
       "2      Polynomial_SVM  0.859649\n",
       "3             RBF_SVM  0.614035\n",
       "4    Gaussian_Process  0.991228\n",
       "5   Gradient_Boosting  0.947368\n",
       "6       Decision_Tree  0.921053\n",
       "7         Extra_Trees  0.982456\n",
       "8       Random_Forest  0.956140\n",
       "9          Neural_Net  0.947368\n",
       "10           AdaBoost  0.956140\n",
       "11        Naive_Bayes  0.956140\n",
       "12                QDA  0.964912\n",
       "13                SGD  0.859649"
      ]
     },
     "execution_count": 52,
     "metadata": {},
     "output_type": "execute_result"
    }
   ],
   "source": [
    "df = pd.DataFrame()\n",
    "df['classifier'] = names\n",
    "df['score'] = clf_scores\n",
    "df"
   ]
  },
  {
   "cell_type": "code",
   "execution_count": 53,
   "id": "2bf9ebb4",
   "metadata": {},
   "outputs": [
    {
     "data": {
      "text/html": [
       "<div>\n",
       "<style scoped>\n",
       "    .dataframe tbody tr th:only-of-type {\n",
       "        vertical-align: middle;\n",
       "    }\n",
       "\n",
       "    .dataframe tbody tr th {\n",
       "        vertical-align: top;\n",
       "    }\n",
       "\n",
       "    .dataframe thead th {\n",
       "        text-align: right;\n",
       "    }\n",
       "</style>\n",
       "<table border=\"1\" class=\"dataframe\">\n",
       "  <thead>\n",
       "    <tr style=\"text-align: right;\">\n",
       "      <th></th>\n",
       "      <th>classifier</th>\n",
       "      <th>score</th>\n",
       "    </tr>\n",
       "  </thead>\n",
       "  <tbody>\n",
       "    <tr>\n",
       "      <th>4</th>\n",
       "      <td>Gaussian_Process</td>\n",
       "      <td>0.991228</td>\n",
       "    </tr>\n",
       "    <tr>\n",
       "      <th>7</th>\n",
       "      <td>Extra_Trees</td>\n",
       "      <td>0.982456</td>\n",
       "    </tr>\n",
       "    <tr>\n",
       "      <th>1</th>\n",
       "      <td>Linear_SVM</td>\n",
       "      <td>0.964912</td>\n",
       "    </tr>\n",
       "    <tr>\n",
       "      <th>12</th>\n",
       "      <td>QDA</td>\n",
       "      <td>0.964912</td>\n",
       "    </tr>\n",
       "    <tr>\n",
       "      <th>8</th>\n",
       "      <td>Random_Forest</td>\n",
       "      <td>0.956140</td>\n",
       "    </tr>\n",
       "    <tr>\n",
       "      <th>10</th>\n",
       "      <td>AdaBoost</td>\n",
       "      <td>0.956140</td>\n",
       "    </tr>\n",
       "    <tr>\n",
       "      <th>11</th>\n",
       "      <td>Naive_Bayes</td>\n",
       "      <td>0.956140</td>\n",
       "    </tr>\n",
       "    <tr>\n",
       "      <th>5</th>\n",
       "      <td>Gradient_Boosting</td>\n",
       "      <td>0.947368</td>\n",
       "    </tr>\n",
       "    <tr>\n",
       "      <th>9</th>\n",
       "      <td>Neural_Net</td>\n",
       "      <td>0.947368</td>\n",
       "    </tr>\n",
       "    <tr>\n",
       "      <th>6</th>\n",
       "      <td>Decision_Tree</td>\n",
       "      <td>0.921053</td>\n",
       "    </tr>\n",
       "    <tr>\n",
       "      <th>0</th>\n",
       "      <td>Nearest_Neighbors</td>\n",
       "      <td>0.894737</td>\n",
       "    </tr>\n",
       "    <tr>\n",
       "      <th>2</th>\n",
       "      <td>Polynomial_SVM</td>\n",
       "      <td>0.859649</td>\n",
       "    </tr>\n",
       "    <tr>\n",
       "      <th>13</th>\n",
       "      <td>SGD</td>\n",
       "      <td>0.859649</td>\n",
       "    </tr>\n",
       "    <tr>\n",
       "      <th>3</th>\n",
       "      <td>RBF_SVM</td>\n",
       "      <td>0.614035</td>\n",
       "    </tr>\n",
       "  </tbody>\n",
       "</table>\n",
       "</div>"
      ],
      "text/plain": [
       "           classifier     score\n",
       "4    Gaussian_Process  0.991228\n",
       "7         Extra_Trees  0.982456\n",
       "1          Linear_SVM  0.964912\n",
       "12                QDA  0.964912\n",
       "8       Random_Forest  0.956140\n",
       "10           AdaBoost  0.956140\n",
       "11        Naive_Bayes  0.956140\n",
       "5   Gradient_Boosting  0.947368\n",
       "9          Neural_Net  0.947368\n",
       "6       Decision_Tree  0.921053\n",
       "0   Nearest_Neighbors  0.894737\n",
       "2      Polynomial_SVM  0.859649\n",
       "13                SGD  0.859649\n",
       "3             RBF_SVM  0.614035"
      ]
     },
     "execution_count": 53,
     "metadata": {},
     "output_type": "execute_result"
    }
   ],
   "source": [
    "df.sort_values(by='score', ascending=False)"
   ]
  },
  {
   "cell_type": "code",
   "execution_count": 54,
   "id": "e5e7ddc5",
   "metadata": {},
   "outputs": [
    {
     "data": {
      "image/png": "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\n",
      "text/plain": [
       "<Figure size 640x480 with 1 Axes>"
      ]
     },
     "metadata": {},
     "output_type": "display_data"
    }
   ],
   "source": [
    "df = pd.DataFrame()\n",
    "df['classifier'] = names\n",
    "df['score'] = clf_scores\n",
    "sns.set(style=\"whitegrid\")\n",
    "ax = sns.barplot(y=\"classifier\", x=\"score\", data=df, order=df.sort_values(by='score', ascending=False).classifier)"
   ]
  },
  {
   "cell_type": "code",
   "execution_count": null,
   "id": "003b74f4",
   "metadata": {},
   "outputs": [],
   "source": []
  }
 ],
 "metadata": {
  "kernelspec": {
   "display_name": "Python 3 (ipykernel)",
   "language": "python",
   "name": "python3"
  },
  "language_info": {
   "codemirror_mode": {
    "name": "ipython",
    "version": 3
   },
   "file_extension": ".py",
   "mimetype": "text/x-python",
   "name": "python",
   "nbconvert_exporter": "python",
   "pygments_lexer": "ipython3",
   "version": "3.9.13"
  }
 },
 "nbformat": 4,
 "nbformat_minor": 5
}
